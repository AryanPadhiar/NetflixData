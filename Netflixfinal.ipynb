{
 "cells": [
  {
   "cell_type": "markdown",
   "id": "2c1c88bd",
   "metadata": {},
   "source": [
    "In this dataset we will try to answer few questions like: \n",
    "And try to do more insights and visualise the Data\n",
    "\n",
    "1)What is the average revenue per country or lifetime retention based on country?\n",
    "\n",
    "2) What do you think is the most popular device to watch Netflix?\n",
    "\n",
    "3) What is Netflix’s Total Revenue generated?\n",
    "\n",
    "4) Which age group uses Netflix the Most?\n",
    "\n",
    "5) What are the Total watch hours?"
   ]
  },
  {
   "cell_type": "code",
   "execution_count": 8,
   "id": "39d9bbbb",
   "metadata": {},
   "outputs": [
    {
     "data": {
      "text/html": [
       "<div>\n",
       "<style scoped>\n",
       "    .dataframe tbody tr th:only-of-type {\n",
       "        vertical-align: middle;\n",
       "    }\n",
       "\n",
       "    .dataframe tbody tr th {\n",
       "        vertical-align: top;\n",
       "    }\n",
       "\n",
       "    .dataframe thead th {\n",
       "        text-align: right;\n",
       "    }\n",
       "</style>\n",
       "<table border=\"1\" class=\"dataframe\">\n",
       "  <thead>\n",
       "    <tr style=\"text-align: right;\">\n",
       "      <th></th>\n",
       "      <th>User ID</th>\n",
       "      <th>Subscription Type</th>\n",
       "      <th>Monthly Revenue</th>\n",
       "      <th>Join Date</th>\n",
       "      <th>Last Payment Date</th>\n",
       "      <th>Country</th>\n",
       "      <th>Age</th>\n",
       "      <th>Gender</th>\n",
       "      <th>Device</th>\n",
       "      <th>Plan Duration</th>\n",
       "    </tr>\n",
       "  </thead>\n",
       "  <tbody>\n",
       "    <tr>\n",
       "      <th>0</th>\n",
       "      <td>1</td>\n",
       "      <td>Basic</td>\n",
       "      <td>10</td>\n",
       "      <td>15-01-22</td>\n",
       "      <td>10-06-23</td>\n",
       "      <td>United States</td>\n",
       "      <td>28</td>\n",
       "      <td>Male</td>\n",
       "      <td>Smartphone</td>\n",
       "      <td>1 Month</td>\n",
       "    </tr>\n",
       "    <tr>\n",
       "      <th>1</th>\n",
       "      <td>2</td>\n",
       "      <td>Premium</td>\n",
       "      <td>15</td>\n",
       "      <td>05-09-21</td>\n",
       "      <td>22-06-23</td>\n",
       "      <td>Canada</td>\n",
       "      <td>35</td>\n",
       "      <td>Female</td>\n",
       "      <td>Tablet</td>\n",
       "      <td>1 Month</td>\n",
       "    </tr>\n",
       "    <tr>\n",
       "      <th>2</th>\n",
       "      <td>3</td>\n",
       "      <td>Standard</td>\n",
       "      <td>12</td>\n",
       "      <td>28-02-23</td>\n",
       "      <td>27-06-23</td>\n",
       "      <td>United Kingdom</td>\n",
       "      <td>42</td>\n",
       "      <td>Male</td>\n",
       "      <td>Smart TV</td>\n",
       "      <td>1 Month</td>\n",
       "    </tr>\n",
       "    <tr>\n",
       "      <th>3</th>\n",
       "      <td>4</td>\n",
       "      <td>Standard</td>\n",
       "      <td>12</td>\n",
       "      <td>10-07-22</td>\n",
       "      <td>26-06-23</td>\n",
       "      <td>Australia</td>\n",
       "      <td>51</td>\n",
       "      <td>Female</td>\n",
       "      <td>Laptop</td>\n",
       "      <td>1 Month</td>\n",
       "    </tr>\n",
       "    <tr>\n",
       "      <th>4</th>\n",
       "      <td>5</td>\n",
       "      <td>Basic</td>\n",
       "      <td>10</td>\n",
       "      <td>01-05-23</td>\n",
       "      <td>28-06-23</td>\n",
       "      <td>Germany</td>\n",
       "      <td>33</td>\n",
       "      <td>Male</td>\n",
       "      <td>Smartphone</td>\n",
       "      <td>1 Month</td>\n",
       "    </tr>\n",
       "  </tbody>\n",
       "</table>\n",
       "</div>"
      ],
      "text/plain": [
       "   User ID Subscription Type  Monthly Revenue Join Date Last Payment Date  \\\n",
       "0        1             Basic               10  15-01-22          10-06-23   \n",
       "1        2           Premium               15  05-09-21          22-06-23   \n",
       "2        3          Standard               12  28-02-23          27-06-23   \n",
       "3        4          Standard               12  10-07-22          26-06-23   \n",
       "4        5             Basic               10  01-05-23          28-06-23   \n",
       "\n",
       "          Country  Age  Gender      Device Plan Duration  \n",
       "0   United States   28    Male  Smartphone       1 Month  \n",
       "1          Canada   35  Female      Tablet       1 Month  \n",
       "2  United Kingdom   42    Male    Smart TV       1 Month  \n",
       "3       Australia   51  Female      Laptop       1 Month  \n",
       "4         Germany   33    Male  Smartphone       1 Month  "
      ]
     },
     "execution_count": 8,
     "metadata": {},
     "output_type": "execute_result"
    }
   ],
   "source": [
    "import numpy as np\n",
    "import pandas as pd\n",
    "import matplotlib.pyplot as plt\n",
    "import plotly.express as px\n",
    "from datetime import datetime\n",
    "from dateutil import relativedelta\n",
    "import seaborn as sls\n",
    "df=pd.read_csv(\"Netflix Userbase.csv\")\n",
    "df.head()"
   ]
  },
  {
   "cell_type": "code",
   "execution_count": 9,
   "id": "7aa6f2df",
   "metadata": {},
   "outputs": [],
   "source": [
    "# lets check for null values.\n",
    "# lets correct column names also.\n",
    "df.isnull().sum()\n",
    "dict={'Monthly Revenue':'Monthly_Revenue','Last Payment Date':'Last_Payment_Date','Join Date':'Join_date',\n",
    "      'User ID':'User_Id','Subscription Type':'Subscription_Type','Plan Duration':'Plan_duration'}\n",
    "df.rename(columns=dict,\n",
    "          inplace=True)\n",
    "df.head() \n",
    "# converting string type data to integer values\n",
    "df['Plan_duration']=df['Plan_duration'].str.extract('(\\d+)').astype(int)"
   ]
  },
  {
   "cell_type": "markdown",
   "id": "9ef1e73e",
   "metadata": {},
   "source": [
    "# Questions First"
   ]
  },
  {
   "cell_type": "code",
   "execution_count": 10,
   "id": "0e5a8dfa",
   "metadata": {},
   "outputs": [
    {
     "data": {
      "image/png": "[encoded data removed]",
      "text/plain": [
       "<Figure size 640x480 with 1 Axes>"
      ]
     },
     "metadata": {},
     "output_type": "display_data"
    }
   ],
   "source": [
    "df['Total_revenue']= df['Monthly_Revenue'] * df['Plan_duration']\n",
    "Total_revenue_country=df.groupby('Country').Total_revenue.mean()\n",
    "countries=df['Country'].unique()\n",
    "#This is monthly avg revenue \n",
    "plt.pie(Total_revenue_country,labels=countries,autopct='%1.1f%%')\n",
    "plt.show()"
   ]
  },
  {
   "cell_type": "code",
   "execution_count": 11,
   "id": "54adfe59",
   "metadata": {},
   "outputs": [
    {
     "data": {
      "text/plain": [
       "Laptop        636\n",
       "Tablet        633\n",
       "Smartphone    621\n",
       "Smart TV      610\n",
       "Name: Device, dtype: int64"
      ]
     },
     "execution_count": 11,
     "metadata": {},
     "output_type": "execute_result"
    }
   ],
   "source": [
    "# Moving on to Q2\n",
    "devices=df['Device'].unique()\n",
    "device_count=df.Device.value_counts()\n",
    "device_count\n",
    "# we can see that mainly 4 devices are used to stream netflix,and Laptop being most used."
   ]
  },
  {
   "cell_type": "markdown",
   "id": "8fc5f90a",
   "metadata": {},
   "source": [
    "We can See clearly that Although users are nearly equal across all devices,Still laptop is the most popular choice.\n",
    "We will do a countrywise distribution among devices also in the plot below."
   ]
  },
  {
   "cell_type": "code",
   "execution_count": 13,
   "id": "3924319f",
   "metadata": {},
   "outputs": [
    {
     "data": {
      "image/png": "[encoded data removed]",
      "text/plain": [
       "<Figure size 640x480 with 1 Axes>"
      ]
     },
     "metadata": {},
     "output_type": "display_data"
    }
   ],
   "source": [
    "sls.histplot(x='Country',data=df, hue='Device',multiple='dodge',shrink=0.9)\n",
    "sls.set(font_scale=0.5) \n"
   ]
  },
  {
   "cell_type": "markdown",
   "id": "1c9a8f93",
   "metadata": {},
   "source": [
    "You can clearly See though laptop tops among popular devices globally but its not the scene in every country.\n",
    "Decision 1) Smart Tv sellers in Spain may try to contract some deal with netflix.\n",
    "moving to Q3.."
   ]
  },
  {
   "cell_type": "markdown",
   "id": "5e677a29",
   "metadata": {},
   "source": [
    "For total worldwide Revenue, we already have a column representing every countries total revenue, we will just add it."
   ]
  },
  {
   "cell_type": "code",
   "execution_count": 14,
   "id": "dea5f625",
   "metadata": {
    "scrolled": true
   },
   "outputs": [
    {
     "name": "stdout",
     "output_type": "stream",
     "text": [
      "Total revenue generated by netflix worlwide is $31271\n"
     ]
    }
   ],
   "source": [
    "Total_revenue_global=df['Total_revenue'].sum()\n",
    "print(f'Total revenue generated by netflix worlwide is ${Total_revenue_global}')"
   ]
  },
  {
   "cell_type": "markdown",
   "id": "89be4021",
   "metadata": {},
   "source": [
    "Moving to Q4: \n",
    "Which Age-group uses the most?"
   ]
  },
  {
   "cell_type": "code",
   "execution_count": 15,
   "id": "16b63f17",
   "metadata": {},
   "outputs": [
    {
     "data": {
      "text/plain": [
       "<Axes: xlabel='Age', ylabel='Count'>"
      ]
     },
     "execution_count": 15,
     "metadata": {},
     "output_type": "execute_result"
    },
    {
     "data": {
      "image/png": "[encoded data removed]",
      "text/plain": [
       "<Figure size 640x480 with 1 Axes>"
      ]
     },
     "metadata": {},
     "output_type": "display_data"
    }
   ],
   "source": [
    "age_count=df.Age.value_counts()\n",
    "age_count # This will give individual age counts(discrete data,which at the moment is not usefull)\n",
    "sls.histplot(df.Age,binwidth=5) # you can define any bin width you want"
   ]
  },
  {
   "cell_type": "markdown",
   "id": "0afb14d5",
   "metadata": {},
   "source": [
    "So,we can say (35,45) if your desired range is 10 units of age else (45,50) if range is 5 units is the Ans to question 4"
   ]
  },
  {
   "cell_type": "markdown",
   "id": "a53ff294",
   "metadata": {},
   "source": [
    "We will create a columm showing how much months a user used Netflix."
   ]
  },
  {
   "cell_type": "code",
   "execution_count": 27,
   "id": "b024c13f",
   "metadata": {},
   "outputs": [],
   "source": [
    "df['Join_date']=pd.to_datetime(df['Join_date'])\n",
    "df['Last_Payment_Date']=pd.to_datetime(df['Last_Payment_Date'])\n",
    "df['nb_months'] = ((df.Last_Payment_Date - df.Join_date  )/np.timedelta64(1, 'M'))\n",
    "df['nb_months'] = df['nb_months'].astype(int)"
   ]
  },
  {
   "cell_type": "code",
   "execution_count": 28,
   "id": "651648fc",
   "metadata": {},
   "outputs": [
    {
     "name": "stdout",
     "output_type": "stream",
     "text": [
      "Basic       999\n",
      "Standard    768\n",
      "Premium     733\n",
      "Name: Subscription_Type, dtype: int64\n",
      "Laptop        636\n",
      "Tablet        633\n",
      "Smartphone    621\n",
      "Smart TV      610\n",
      "Name: Device, dtype: int64\n"
     ]
    }
   ],
   "source": [
    "plan_count=df.Subscription_Type.value_counts()\n",
    "print(plan_count)\n",
    "print(device_count)"
   ]
  },
  {
   "cell_type": "markdown",
   "id": "7f5aefa7",
   "metadata": {},
   "source": [
    "For Q5 we need to make certain assumptions.\n",
    "we have 12 possible combinations.\n",
    "let say:\n",
    "    phone + basic= 28 hours a month\n",
    "    phone + Standard= 20 hours a month\n",
    "    phone + Premium= 24 hours a month\n",
    "    Laptop + basic= 20 hours a month\n",
    "    Laptop + Standard= 30 hours a month\n",
    "    Laptop + Premium= 28 hours a month\n",
    "    Tablet + basic= 20 hours a month\n",
    "    Tablet + Standard= 24 hours a month\n",
    "    Tablet + Premium= 16 hours a month\n",
    "    Smart TV + basic= 28 hours a month\n",
    "    Smart TV + Standard= 30 hours a month\n",
    "    Smart TV + Premium= 28 hours a month\n",
    "    "
   ]
  },
  {
   "cell_type": "code",
   "execution_count": 35,
   "id": "66818005",
   "metadata": {},
   "outputs": [
    {
     "name": "stdout",
     "output_type": "stream",
     "text": [
      "Total watch hours are 622386  which is equivalent to 72.03541666666666 years\n"
     ]
    }
   ],
   "source": [
    "def watchtime(row):\n",
    "    if (row['Device'] == 'Smartphone' and row['Subscription_Type']=='Basic'):\n",
    "        return 28\n",
    "    if (row['Device'] == 'Smartphone' and row['Subscription_Type']=='Standard'):\n",
    "        return 20\n",
    "    if (row['Device'] == 'Smartphone' and row['Subscription_Type']=='Premium'):\n",
    "        return 24\n",
    "    if (row['Device'] == 'Laptop' and row['Subscription_Type']=='Basic'):\n",
    "        return 20\n",
    "    if (row['Device'] == 'Laptop' and row['Subscription_Type']=='Standard'):\n",
    "        return 30\n",
    "    if (row['Device'] == 'Laptop' and row['Subscription_Type']=='Premium'):\n",
    "        return 28\n",
    "    if (row['Device'] == 'Tablet' and row['Subscription_Type']=='Basic'):\n",
    "        return 20\n",
    "    if (row['Device'] == 'Tablet' and row['Subscription_Type']=='Standard'):\n",
    "        return 24\n",
    "    if (row['Device'] == 'Tablet' and row['Subscription_Type']=='Premium'):\n",
    "        return 16\n",
    "    if (row['Device'] == 'Smart TV' and row['Subscription_Type']=='Basic'):\n",
    "        return 28\n",
    "    if (row['Device'] == 'Smart TV' and row['Subscription_Type']=='Standard'):\n",
    "        return 30\n",
    "    if (row['Device'] == 'Smart TV' and row['Subscription_Type']=='Premium'):\n",
    "        return 28\n",
    "df['watch_hours']=df.apply(lambda row : watchtime(row), axis=1) \n",
    "df.head()\n",
    "Total_watch_hrs=(df['nb_months']*df['watch_hours']).sum()\n",
    "print(f'Total watch hours are {Total_watch_hrs}  which is equivalent to {Total_watch_hrs/8640} years')"
   ]
  },
  {
   "cell_type": "markdown",
   "id": "15dbcdca",
   "metadata": {},
   "source": [
    "So,probably we can see how netflix can earn so much,as per some report in 2016,netflix reportedly earned 5 cents or 0.21 rupees per hour of streaming which has definately increased in recent years. considering 5 cents the revenue generated is nearly 1.25L and this is just the data of some 2500 people!!"
   ]
  },
  {
   "cell_type": "markdown",
   "id": "52a7f736",
   "metadata": {},
   "source": [
    " Also for sub part of Q1 the \"lifetime retention based on country\"  I'm not getting much idea how to do, still have tried what i found appropriate. "
   ]
  },
  {
   "cell_type": "code",
   "execution_count": 73,
   "id": "905a8697",
   "metadata": {},
   "outputs": [
    {
     "data": {
      "text/plain": [
       "Text(0.5, 1.0, 'Countries vs Retention rates 2022-2023')"
      ]
     },
     "execution_count": 73,
     "metadata": {},
     "output_type": "execute_result"
    },
    {
     "data": {
      "image/png": "[encoded data removed]",
      "text/plain": [
       "<Figure size 640x480 with 2 Axes>"
      ]
     },
     "metadata": {},
     "output_type": "display_data"
    }
   ],
   "source": [
    "df.head()\n",
    "def retention1(row):\n",
    "    people_joined_2021=0\n",
    "    people_retend_2021=0\n",
    "    for j in df['Join_date']:\n",
    "        if(int(j.strftime('%Y'))<2022):\n",
    "            people_joined_2021+=1\n",
    "    for i,j in zip(df['Join_date'],df['Last_Payment_Date']):\n",
    "        if(int(j.strftime('%Y'))>2021  and int(i.strftime('%Y'))<2022 ):\n",
    "            people_retend_2021+=1\n",
    "    return (people_retend_2021/people_joined_2021)*100    \n",
    "def retention2(row):\n",
    "    people_joined_2022=0\n",
    "    people_retend_2022=0\n",
    "    for j in df['Join_date']:\n",
    "        if(int(j.strftime('%Y'))<2023 and int(j.strftime('%Y'))>2021):\n",
    "            people_joined_2022+=1\n",
    "    for i,j in zip (df['Join_date'],df['Last_Payment_Date']):\n",
    "        if(int(j.strftime('%Y'))>2022   and 2021<int(i.strftime('%Y'))<2023 ):\n",
    "            people_retend_2022+=1\n",
    "    return (people_retend_2022/people_joined_2022)*100\n",
    "retention_countrywise_21_22=df.groupby('Country').apply(lambda row: retention1(row))\n",
    "retention_countrywise_22_23=df.groupby('Country').apply(lambda row: retention2(row))\n",
    "retention_countrywise_21_22.columns=['country','retentionpercent']\n",
    "retention_countrywise_22_23.columns=['country','retentionpercent']\n",
    "plt.subplot(1,2,1)\n",
    "sls.barplot(x=retention_countrywise_21_22.index,y=retention_countrywise_21_22.values)\n",
    "sls.set(font_scale=0.4)\n",
    "plt.ylabel(\"Retention rate\")\n",
    "plt.title(\"Countries vs Retention rates 2021-2022\")\n",
    "plt.subplot(1,2,2)\n",
    "sls.barplot(x=retention_countrywise_22_23.index,y=retention_countrywise_22_23.values)\n",
    "sls.set(font_scale=0.4)\n",
    "plt.title(\"Countries vs Retention rates 2022-2023\")\n"
   ]
  },
  {
   "cell_type": "markdown",
   "id": "2bfc4269",
   "metadata": {},
   "source": [
    "So,You can see this is a great sign for the company as in all countries the retention rate is 100% since customers subscribed in 2021,2022 all have retended till 2023!"
   ]
  }
 ],
 "metadata": {
  "kernelspec": {
   "display_name": "Python 3 (ipykernel)",
   "language": "python",
   "name": "python3"
  },
  "language_info": {
   "codemirror_mode": {
    "name": "ipython",
    "version": 3
   },
   "file_extension": ".py",
   "mimetype": "text/x-python",
   "name": "python",
   "nbconvert_exporter": "python",
   "pygments_lexer": "ipython3",
   "version": "3.10.9"
  }
 },
 "nbformat": 4,
 "nbformat_minor": 5
}
